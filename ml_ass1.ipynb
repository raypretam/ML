{
 "cells": [
  {
   "cell_type": "code",
<<<<<<< HEAD
   "execution_count": 46,
=======
   "execution_count": 1,
>>>>>>> parent of 8d785b7 (Gradient Ascent Algo Shit)
   "metadata": {},
   "outputs": [],
   "source": [
    "import numpy as np\n",
    "import pandas as pd\n",
    "import matplotlib.pyplot as plt"
   ]
  },
  {
   "cell_type": "code",
<<<<<<< HEAD
   "execution_count": 47,
=======
   "execution_count": 2,
>>>>>>> parent of 8d785b7 (Gradient Ascent Algo Shit)
   "metadata": {},
   "outputs": [
    {
     "data": {
      "text/html": [
       "<div>\n",
       "<style scoped>\n",
       "    .dataframe tbody tr th:only-of-type {\n",
       "        vertical-align: middle;\n",
       "    }\n",
       "\n",
       "    .dataframe tbody tr th {\n",
       "        vertical-align: top;\n",
       "    }\n",
       "\n",
       "    .dataframe thead th {\n",
       "        text-align: right;\n",
       "    }\n",
       "</style>\n",
       "<table border=\"1\" class=\"dataframe\">\n",
       "  <thead>\n",
       "    <tr style=\"text-align: right;\">\n",
       "      <th></th>\n",
       "      <th>fixed acidity</th>\n",
       "      <th>volatile acidity</th>\n",
       "      <th>citric acid</th>\n",
       "      <th>residual sugar</th>\n",
       "      <th>chlorides</th>\n",
       "      <th>free sulfur dioxide</th>\n",
       "      <th>total sulfur dioxide</th>\n",
       "      <th>density</th>\n",
       "      <th>pH</th>\n",
       "      <th>sulphates</th>\n",
       "      <th>alcohol</th>\n",
       "      <th>quality</th>\n",
       "    </tr>\n",
       "  </thead>\n",
       "  <tbody>\n",
       "    <tr>\n",
       "      <th>0</th>\n",
       "      <td>7.4</td>\n",
       "      <td>0.70</td>\n",
       "      <td>0.00</td>\n",
       "      <td>1.9</td>\n",
       "      <td>0.076</td>\n",
       "      <td>11.0</td>\n",
       "      <td>34.0</td>\n",
       "      <td>0.9978</td>\n",
       "      <td>3.51</td>\n",
       "      <td>0.56</td>\n",
       "      <td>9.4</td>\n",
       "      <td>5</td>\n",
       "    </tr>\n",
       "    <tr>\n",
       "      <th>1</th>\n",
       "      <td>7.8</td>\n",
       "      <td>0.88</td>\n",
       "      <td>0.00</td>\n",
       "      <td>2.6</td>\n",
       "      <td>0.098</td>\n",
       "      <td>25.0</td>\n",
       "      <td>67.0</td>\n",
       "      <td>0.9968</td>\n",
       "      <td>3.20</td>\n",
       "      <td>0.68</td>\n",
       "      <td>9.8</td>\n",
       "      <td>5</td>\n",
       "    </tr>\n",
       "    <tr>\n",
       "      <th>2</th>\n",
       "      <td>7.8</td>\n",
       "      <td>0.76</td>\n",
       "      <td>0.04</td>\n",
       "      <td>2.3</td>\n",
       "      <td>0.092</td>\n",
       "      <td>15.0</td>\n",
       "      <td>54.0</td>\n",
       "      <td>0.9970</td>\n",
       "      <td>3.26</td>\n",
       "      <td>0.65</td>\n",
       "      <td>9.8</td>\n",
       "      <td>5</td>\n",
       "    </tr>\n",
       "    <tr>\n",
       "      <th>3</th>\n",
       "      <td>11.2</td>\n",
       "      <td>0.28</td>\n",
       "      <td>0.56</td>\n",
       "      <td>1.9</td>\n",
       "      <td>0.075</td>\n",
       "      <td>17.0</td>\n",
       "      <td>60.0</td>\n",
       "      <td>0.9980</td>\n",
       "      <td>3.16</td>\n",
       "      <td>0.58</td>\n",
       "      <td>9.8</td>\n",
       "      <td>6</td>\n",
       "    </tr>\n",
       "    <tr>\n",
       "      <th>4</th>\n",
       "      <td>7.4</td>\n",
       "      <td>0.70</td>\n",
       "      <td>0.00</td>\n",
       "      <td>1.9</td>\n",
       "      <td>0.076</td>\n",
       "      <td>11.0</td>\n",
       "      <td>34.0</td>\n",
       "      <td>0.9978</td>\n",
       "      <td>3.51</td>\n",
       "      <td>0.56</td>\n",
       "      <td>9.4</td>\n",
       "      <td>5</td>\n",
       "    </tr>\n",
       "  </tbody>\n",
       "</table>\n",
       "</div>"
      ],
      "text/plain": [
       "   fixed acidity  volatile acidity  citric acid  residual sugar  chlorides  \\\n",
       "0            7.4              0.70         0.00             1.9      0.076   \n",
       "1            7.8              0.88         0.00             2.6      0.098   \n",
       "2            7.8              0.76         0.04             2.3      0.092   \n",
       "3           11.2              0.28         0.56             1.9      0.075   \n",
       "4            7.4              0.70         0.00             1.9      0.076   \n",
       "\n",
       "   free sulfur dioxide  total sulfur dioxide  density    pH  sulphates  \\\n",
       "0                 11.0                  34.0   0.9978  3.51       0.56   \n",
       "1                 25.0                  67.0   0.9968  3.20       0.68   \n",
       "2                 15.0                  54.0   0.9970  3.26       0.65   \n",
       "3                 17.0                  60.0   0.9980  3.16       0.58   \n",
       "4                 11.0                  34.0   0.9978  3.51       0.56   \n",
       "\n",
       "   alcohol  quality  \n",
       "0      9.4        5  \n",
       "1      9.8        5  \n",
       "2      9.8        5  \n",
       "3      9.8        6  \n",
       "4      9.4        5  "
      ]
     },
<<<<<<< HEAD
     "execution_count": 47,
=======
     "execution_count": 2,
>>>>>>> parent of 8d785b7 (Gradient Ascent Algo Shit)
     "metadata": {},
     "output_type": "execute_result"
    }
   ],
   "source": [
    "df = pd.read_csv(\"/home/friday/Documents/MS/Coursework/1st Sem/Deep Learning/ML/asssign1/dataset/linear-regression.csv\")\n",
    "df.head()"
   ]
  },
  {
   "cell_type": "code",
<<<<<<< HEAD
   "execution_count": 48,
=======
   "execution_count": 3,
>>>>>>> parent of 8d785b7 (Gradient Ascent Algo Shit)
   "metadata": {},
   "outputs": [
    {
     "data": {
      "text/html": [
       "<div>\n",
       "<style scoped>\n",
       "    .dataframe tbody tr th:only-of-type {\n",
       "        vertical-align: middle;\n",
       "    }\n",
       "\n",
       "    .dataframe tbody tr th {\n",
       "        vertical-align: top;\n",
       "    }\n",
       "\n",
       "    .dataframe thead th {\n",
       "        text-align: right;\n",
       "    }\n",
       "</style>\n",
       "<table border=\"1\" class=\"dataframe\">\n",
       "  <thead>\n",
       "    <tr style=\"text-align: right;\">\n",
       "      <th></th>\n",
       "      <th>fixed acidity</th>\n",
       "      <th>volatile acidity</th>\n",
       "      <th>citric acid</th>\n",
       "      <th>residual sugar</th>\n",
       "      <th>chlorides</th>\n",
       "      <th>free sulfur dioxide</th>\n",
       "      <th>total sulfur dioxide</th>\n",
       "      <th>density</th>\n",
       "      <th>pH</th>\n",
       "      <th>sulphates</th>\n",
       "      <th>alcohol</th>\n",
       "      <th>quality</th>\n",
       "    </tr>\n",
       "  </thead>\n",
       "  <tbody>\n",
       "    <tr>\n",
       "      <th>count</th>\n",
       "      <td>1599.000000</td>\n",
       "      <td>1599.000000</td>\n",
       "      <td>1599.000000</td>\n",
       "      <td>1599.000000</td>\n",
       "      <td>1599.000000</td>\n",
       "      <td>1599.000000</td>\n",
       "      <td>1599.000000</td>\n",
       "      <td>1599.000000</td>\n",
       "      <td>1599.000000</td>\n",
       "      <td>1599.000000</td>\n",
       "      <td>1599.000000</td>\n",
       "      <td>1599.000000</td>\n",
       "    </tr>\n",
       "    <tr>\n",
       "      <th>mean</th>\n",
       "      <td>8.319637</td>\n",
       "      <td>0.527821</td>\n",
       "      <td>0.270976</td>\n",
       "      <td>2.538806</td>\n",
       "      <td>0.087467</td>\n",
       "      <td>15.874922</td>\n",
       "      <td>46.467792</td>\n",
       "      <td>0.996747</td>\n",
       "      <td>3.311113</td>\n",
       "      <td>0.658149</td>\n",
       "      <td>10.422983</td>\n",
       "      <td>5.636023</td>\n",
       "    </tr>\n",
       "    <tr>\n",
       "      <th>std</th>\n",
       "      <td>1.741096</td>\n",
       "      <td>0.179060</td>\n",
       "      <td>0.194801</td>\n",
       "      <td>1.409928</td>\n",
       "      <td>0.047065</td>\n",
       "      <td>10.460157</td>\n",
       "      <td>32.895324</td>\n",
       "      <td>0.001887</td>\n",
       "      <td>0.154386</td>\n",
       "      <td>0.169507</td>\n",
       "      <td>1.065668</td>\n",
       "      <td>0.807569</td>\n",
       "    </tr>\n",
       "    <tr>\n",
       "      <th>min</th>\n",
       "      <td>4.600000</td>\n",
       "      <td>0.120000</td>\n",
       "      <td>0.000000</td>\n",
       "      <td>0.900000</td>\n",
       "      <td>0.012000</td>\n",
       "      <td>1.000000</td>\n",
       "      <td>6.000000</td>\n",
       "      <td>0.990070</td>\n",
       "      <td>2.740000</td>\n",
       "      <td>0.330000</td>\n",
       "      <td>8.400000</td>\n",
       "      <td>3.000000</td>\n",
       "    </tr>\n",
       "    <tr>\n",
       "      <th>25%</th>\n",
       "      <td>7.100000</td>\n",
       "      <td>0.390000</td>\n",
       "      <td>0.090000</td>\n",
       "      <td>1.900000</td>\n",
       "      <td>0.070000</td>\n",
       "      <td>7.000000</td>\n",
       "      <td>22.000000</td>\n",
       "      <td>0.995600</td>\n",
       "      <td>3.210000</td>\n",
       "      <td>0.550000</td>\n",
       "      <td>9.500000</td>\n",
       "      <td>5.000000</td>\n",
       "    </tr>\n",
       "    <tr>\n",
       "      <th>50%</th>\n",
       "      <td>7.900000</td>\n",
       "      <td>0.520000</td>\n",
       "      <td>0.260000</td>\n",
       "      <td>2.200000</td>\n",
       "      <td>0.079000</td>\n",
       "      <td>14.000000</td>\n",
       "      <td>38.000000</td>\n",
       "      <td>0.996750</td>\n",
       "      <td>3.310000</td>\n",
       "      <td>0.620000</td>\n",
       "      <td>10.200000</td>\n",
       "      <td>6.000000</td>\n",
       "    </tr>\n",
       "    <tr>\n",
       "      <th>75%</th>\n",
       "      <td>9.200000</td>\n",
       "      <td>0.640000</td>\n",
       "      <td>0.420000</td>\n",
       "      <td>2.600000</td>\n",
       "      <td>0.090000</td>\n",
       "      <td>21.000000</td>\n",
       "      <td>62.000000</td>\n",
       "      <td>0.997835</td>\n",
       "      <td>3.400000</td>\n",
       "      <td>0.730000</td>\n",
       "      <td>11.100000</td>\n",
       "      <td>6.000000</td>\n",
       "    </tr>\n",
       "    <tr>\n",
       "      <th>max</th>\n",
       "      <td>15.900000</td>\n",
       "      <td>1.580000</td>\n",
       "      <td>1.000000</td>\n",
       "      <td>15.500000</td>\n",
       "      <td>0.611000</td>\n",
       "      <td>72.000000</td>\n",
       "      <td>289.000000</td>\n",
       "      <td>1.003690</td>\n",
       "      <td>4.010000</td>\n",
       "      <td>2.000000</td>\n",
       "      <td>14.900000</td>\n",
       "      <td>8.000000</td>\n",
       "    </tr>\n",
       "  </tbody>\n",
       "</table>\n",
       "</div>"
      ],
      "text/plain": [
       "       fixed acidity  volatile acidity  citric acid  residual sugar  \\\n",
       "count    1599.000000       1599.000000  1599.000000     1599.000000   \n",
       "mean        8.319637          0.527821     0.270976        2.538806   \n",
       "std         1.741096          0.179060     0.194801        1.409928   \n",
       "min         4.600000          0.120000     0.000000        0.900000   \n",
       "25%         7.100000          0.390000     0.090000        1.900000   \n",
       "50%         7.900000          0.520000     0.260000        2.200000   \n",
       "75%         9.200000          0.640000     0.420000        2.600000   \n",
       "max        15.900000          1.580000     1.000000       15.500000   \n",
       "\n",
       "         chlorides  free sulfur dioxide  total sulfur dioxide      density  \\\n",
       "count  1599.000000          1599.000000           1599.000000  1599.000000   \n",
       "mean      0.087467            15.874922             46.467792     0.996747   \n",
       "std       0.047065            10.460157             32.895324     0.001887   \n",
       "min       0.012000             1.000000              6.000000     0.990070   \n",
       "25%       0.070000             7.000000             22.000000     0.995600   \n",
       "50%       0.079000            14.000000             38.000000     0.996750   \n",
       "75%       0.090000            21.000000             62.000000     0.997835   \n",
       "max       0.611000            72.000000            289.000000     1.003690   \n",
       "\n",
       "                pH    sulphates      alcohol      quality  \n",
       "count  1599.000000  1599.000000  1599.000000  1599.000000  \n",
       "mean      3.311113     0.658149    10.422983     5.636023  \n",
       "std       0.154386     0.169507     1.065668     0.807569  \n",
       "min       2.740000     0.330000     8.400000     3.000000  \n",
       "25%       3.210000     0.550000     9.500000     5.000000  \n",
       "50%       3.310000     0.620000    10.200000     6.000000  \n",
       "75%       3.400000     0.730000    11.100000     6.000000  \n",
       "max       4.010000     2.000000    14.900000     8.000000  "
      ]
     },
<<<<<<< HEAD
     "execution_count": 48,
=======
     "execution_count": 3,
>>>>>>> parent of 8d785b7 (Gradient Ascent Algo Shit)
     "metadata": {},
     "output_type": "execute_result"
    }
   ],
   "source": [
    "df.describe()"
   ]
  },
  {
   "cell_type": "code",
<<<<<<< HEAD
   "execution_count": 49,
=======
   "execution_count": 4,
>>>>>>> parent of 8d785b7 (Gradient Ascent Algo Shit)
   "metadata": {},
   "outputs": [
    {
     "name": "stdout",
     "output_type": "stream",
     "text": [
      "<class 'pandas.core.frame.DataFrame'>\n",
      "RangeIndex: 1599 entries, 0 to 1598\n",
      "Data columns (total 12 columns):\n",
      " #   Column                Non-Null Count  Dtype  \n",
      "---  ------                --------------  -----  \n",
      " 0   fixed acidity         1599 non-null   float64\n",
      " 1   volatile acidity      1599 non-null   float64\n",
      " 2   citric acid           1599 non-null   float64\n",
      " 3   residual sugar        1599 non-null   float64\n",
      " 4   chlorides             1599 non-null   float64\n",
      " 5   free sulfur dioxide   1599 non-null   float64\n",
      " 6   total sulfur dioxide  1599 non-null   float64\n",
      " 7   density               1599 non-null   float64\n",
      " 8   pH                    1599 non-null   float64\n",
      " 9   sulphates             1599 non-null   float64\n",
      " 10  alcohol               1599 non-null   float64\n",
      " 11  quality               1599 non-null   int64  \n",
      "dtypes: float64(11), int64(1)\n",
      "memory usage: 150.0 KB\n"
     ]
    }
   ],
   "source": [
    "df.info()"
   ]
  },
  {
   "cell_type": "code",
<<<<<<< HEAD
   "execution_count": 50,
=======
   "execution_count": 5,
>>>>>>> parent of 8d785b7 (Gradient Ascent Algo Shit)
   "metadata": {},
   "outputs": [
    {
     "data": {
      "text/plain": [
       "Index(['fixed acidity', 'volatile acidity', 'citric acid', 'residual sugar',\n",
       "       'chlorides', 'free sulfur dioxide', 'total sulfur dioxide', 'density',\n",
       "       'pH', 'sulphates', 'alcohol', 'quality'],\n",
       "      dtype='object')"
      ]
     },
<<<<<<< HEAD
     "execution_count": 50,
=======
     "execution_count": 5,
>>>>>>> parent of 8d785b7 (Gradient Ascent Algo Shit)
     "metadata": {},
     "output_type": "execute_result"
    }
   ],
   "source": [
    "df.columns"
   ]
  },
  {
   "cell_type": "code",
<<<<<<< HEAD
   "execution_count": 51,
=======
   "execution_count": 6,
>>>>>>> parent of 8d785b7 (Gradient Ascent Algo Shit)
   "metadata": {},
   "outputs": [],
   "source": [
    "selected_features = ['fixed acidity', 'volatile acidity', 'citric acid', 'chlorides',\n",
    "                     'free sulfur dioxide', 'total sulfur dioxide', 'density', 'pH',\n",
    "                     'sulphates', 'alcohol']"
   ]
  },
  {
   "cell_type": "code",
<<<<<<< HEAD
   "execution_count": 52,
=======
   "execution_count": 7,
>>>>>>> parent of 8d785b7 (Gradient Ascent Algo Shit)
   "metadata": {},
   "outputs": [],
   "source": [
    "X = df[selected_features]\n",
    "y = df.quality"
   ]
  },
  {
   "cell_type": "code",
<<<<<<< HEAD
   "execution_count": 53,
=======
   "execution_count": 8,
>>>>>>> parent of 8d785b7 (Gradient Ascent Algo Shit)
   "metadata": {},
   "outputs": [],
   "source": [
    "from sklearn.model_selection import train_test_split\n",
    "\n",
    "X_train, X_test, y_train, y_test = train_test_split(X, y, test_size=0.2, random_state=1)\n",
    "\n",
    "X_train, X_val, y_train, y_val = train_test_split(X_train, y_train, test_size=0.25, random_state=1)"
   ]
  },
  {
   "cell_type": "code",
<<<<<<< HEAD
   "execution_count": 54,
=======
   "execution_count": 9,
>>>>>>> parent of 8d785b7 (Gradient Ascent Algo Shit)
   "metadata": {},
   "outputs": [],
   "source": [
    "from sklearn.preprocessing import MinMaxScaler\n",
    "norm = MinMaxScaler()\n",
    "X_train_norm = norm.fit_transform(X_train)\n",
    "X_val_norm = norm.fit_transform(X_val)"
   ]
  },
  {
   "cell_type": "code",
<<<<<<< HEAD
   "execution_count": 55,
   "metadata": {},
   "outputs": [],
   "source": [
    "# You can do the Label Encoding shit if you have time later"
   ]
  },
  {
   "cell_type": "code",
   "execution_count": 56,
=======
   "execution_count": 26,
>>>>>>> parent of 8d785b7 (Gradient Ascent Algo Shit)
   "metadata": {},
   "outputs": [
    {
     "name": "stdout",
     "output_type": "stream",
     "text": [
      "Mean Squared Error : 0.44648018067241\n",
      "R2_Score : 0.3071112618080931\n"
     ]
    }
   ],
   "source": [
    "# Scikit-Learn API Usage\n",
    "from sklearn.linear_model import LinearRegression\n",
    "from sklearn.metrics import mean_squared_error, r2_score\n",
    "\n",
    "model = LinearRegression()\n",
    "reg = model.fit(X_train_norm, y_train)\n",
    "y_pred_val = reg.predict(X_val_norm)\n",
    "print(f\"Mean Squared Error : {mean_squared_error(y_val, y_pred_val)}\")\n",
    "print(f\"R2_Score : {r2_score(y_val, y_pred_val)}\")"
   ]
  },
  {
   "cell_type": "code",
<<<<<<< HEAD
   "execution_count": 57,
=======
   "execution_count": 27,
>>>>>>> parent of 8d785b7 (Gradient Ascent Algo Shit)
   "metadata": {},
   "outputs": [
    {
     "name": "stdout",
     "output_type": "stream",
     "text": [
      "[ 3.22677513  0.29430879  0.69505491  1.23309631  0.82955206 -0.07658579\n",
      "  0.7157502   5.05177856  2.13585548  2.85365682]\n",
      "Mean Squared Error : 0.8391994138445588\n",
      "R2_Score : -0.23786785972460978\n"
     ]
    }
   ],
   "source": [
    "# Analytical Solution\n",
    "from numpy.linalg import inv\n",
    "# X_train_norm = X_train_norm.reshape((len(X_train_norm), 1))\n",
    "# print(len(X_train_norm))\n",
    "# linear least squares\n",
    "b = inv(X_train_norm.T.dot(X_train_norm)).dot(X_train_norm.T).dot(y_train)\n",
    "print(b)\n",
    "# predict using coefficients\n",
    "y_analytical_pred = X_train_norm.dot(b)\n",
    "print(f\"Mean Squared Error : {mean_squared_error(y_train, y_analytical_pred)}\")\n",
    "print(f\"R2_Score : {r2_score(y_train, y_analytical_pred)}\")"
   ]
  },
  {
   "cell_type": "code",
<<<<<<< HEAD
   "execution_count": 72,
   "metadata": {},
   "outputs": [
    {
     "name": "stderr",
     "output_type": "stream",
     "text": [
      "100%|██████████| 100000/100000 [00:15<00:00, 6465.19it/s]\n"
     ]
    },
    {
     "name": "stdout",
     "output_type": "stream",
     "text": [
      "Mean Squared Error : 1.0990055633900897\n",
      "R2_Score : -0.705537246774145\n"
     ]
    },
    {
=======
   "execution_count": 30,
   "metadata": {},
   "outputs": [
    {
>>>>>>> parent of 8d785b7 (Gradient Ascent Algo Shit)
     "name": "stderr",
     "output_type": "stream",
     "text": [
      "100%|██████████| 100000/100000 [00:14<00:00, 6944.55it/s]\n"
     ]
    },
    {
<<<<<<< HEAD
     "name": "stdout",
     "output_type": "stream",
     "text": [
      "Mean Squared Error : 1.0948622758872442\n",
      "R2_Score : -0.6991073146649762\n"
     ]
    },
    {
     "name": "stderr",
     "output_type": "stream",
     "text": [
      "100%|██████████| 100000/100000 [00:13<00:00, 7415.79it/s]"
     ]
    },
    {
     "name": "stdout",
     "output_type": "stream",
     "text": [
      "Mean Squared Error : 1.0940916341943798\n",
      "R2_Score : -0.6979113624743041\n"
     ]
    },
    {
     "name": "stderr",
     "output_type": "stream",
     "text": [
      "\n"
=======
     "ename": "ValueError",
     "evalue": "operands could not be broadcast together with shapes (959,) (959,10) ",
     "output_type": "error",
     "traceback": [
      "\u001b[0;31m---------------------------------------------------------------------------\u001b[0m",
      "\u001b[0;31mValueError\u001b[0m                                Traceback (most recent call last)",
      "Cell \u001b[0;32mIn[30], line 13\u001b[0m\n\u001b[1;32m     11\u001b[0m \u001b[39mfor\u001b[39;00m t \u001b[39min\u001b[39;00m theta:\n\u001b[1;32m     12\u001b[0m     y_pred_train \u001b[39m+\u001b[39m\u001b[39m=\u001b[39m t\u001b[39m*\u001b[39mX_train_norm\n\u001b[0;32m---> 13\u001b[0m residuals \u001b[39m=\u001b[39m y_train \u001b[39m-\u001b[39;49m y_pred_train\n\u001b[1;32m     14\u001b[0m gradient \u001b[39m=\u001b[39m np\u001b[39m.\u001b[39marray([\u001b[39m-\u001b[39m\u001b[39m2\u001b[39m \u001b[39m*\u001b[39m np\u001b[39m.\u001b[39msum(residuals), \u001b[39m-\u001b[39m\u001b[39m2\u001b[39m \u001b[39m*\u001b[39m np\u001b[39m.\u001b[39msum(residuals \u001b[39m*\u001b[39m X)])\n\u001b[1;32m     15\u001b[0m theta \u001b[39m+\u001b[39m\u001b[39m=\u001b[39m learning_rate \u001b[39m*\u001b[39m gradient\n",
      "File \u001b[0;32m~/envs/deep/lib/python3.10/site-packages/pandas/core/ops/common.py:72\u001b[0m, in \u001b[0;36m_unpack_zerodim_and_defer.<locals>.new_method\u001b[0;34m(self, other)\u001b[0m\n\u001b[1;32m     68\u001b[0m             \u001b[39mreturn\u001b[39;00m \u001b[39mNotImplemented\u001b[39m\n\u001b[1;32m     70\u001b[0m other \u001b[39m=\u001b[39m item_from_zerodim(other)\n\u001b[0;32m---> 72\u001b[0m \u001b[39mreturn\u001b[39;00m method(\u001b[39mself\u001b[39;49m, other)\n",
      "File \u001b[0;32m~/envs/deep/lib/python3.10/site-packages/pandas/core/arraylike.py:110\u001b[0m, in \u001b[0;36mOpsMixin.__sub__\u001b[0;34m(self, other)\u001b[0m\n\u001b[1;32m    108\u001b[0m \u001b[39m@unpack_zerodim_and_defer\u001b[39m(\u001b[39m\"\u001b[39m\u001b[39m__sub__\u001b[39m\u001b[39m\"\u001b[39m)\n\u001b[1;32m    109\u001b[0m \u001b[39mdef\u001b[39;00m \u001b[39m__sub__\u001b[39m(\u001b[39mself\u001b[39m, other):\n\u001b[0;32m--> 110\u001b[0m     \u001b[39mreturn\u001b[39;00m \u001b[39mself\u001b[39;49m\u001b[39m.\u001b[39;49m_arith_method(other, operator\u001b[39m.\u001b[39;49msub)\n",
      "File \u001b[0;32m~/envs/deep/lib/python3.10/site-packages/pandas/core/series.py:6259\u001b[0m, in \u001b[0;36mSeries._arith_method\u001b[0;34m(self, other, op)\u001b[0m\n\u001b[1;32m   6257\u001b[0m \u001b[39mdef\u001b[39;00m \u001b[39m_arith_method\u001b[39m(\u001b[39mself\u001b[39m, other, op):\n\u001b[1;32m   6258\u001b[0m     \u001b[39mself\u001b[39m, other \u001b[39m=\u001b[39m ops\u001b[39m.\u001b[39malign_method_SERIES(\u001b[39mself\u001b[39m, other)\n\u001b[0;32m-> 6259\u001b[0m     \u001b[39mreturn\u001b[39;00m base\u001b[39m.\u001b[39;49mIndexOpsMixin\u001b[39m.\u001b[39;49m_arith_method(\u001b[39mself\u001b[39;49m, other, op)\n",
      "File \u001b[0;32m~/envs/deep/lib/python3.10/site-packages/pandas/core/base.py:1325\u001b[0m, in \u001b[0;36mIndexOpsMixin._arith_method\u001b[0;34m(self, other, op)\u001b[0m\n\u001b[1;32m   1322\u001b[0m rvalues \u001b[39m=\u001b[39m ensure_wrapped_if_datetimelike(rvalues)\n\u001b[1;32m   1324\u001b[0m \u001b[39mwith\u001b[39;00m np\u001b[39m.\u001b[39merrstate(\u001b[39mall\u001b[39m\u001b[39m=\u001b[39m\u001b[39m\"\u001b[39m\u001b[39mignore\u001b[39m\u001b[39m\"\u001b[39m):\n\u001b[0;32m-> 1325\u001b[0m     result \u001b[39m=\u001b[39m ops\u001b[39m.\u001b[39;49marithmetic_op(lvalues, rvalues, op)\n\u001b[1;32m   1327\u001b[0m \u001b[39mreturn\u001b[39;00m \u001b[39mself\u001b[39m\u001b[39m.\u001b[39m_construct_result(result, name\u001b[39m=\u001b[39mres_name)\n",
      "File \u001b[0;32m~/envs/deep/lib/python3.10/site-packages/pandas/core/ops/array_ops.py:226\u001b[0m, in \u001b[0;36marithmetic_op\u001b[0;34m(left, right, op)\u001b[0m\n\u001b[1;32m    222\u001b[0m     _bool_arith_check(op, left, right)\n\u001b[1;32m    224\u001b[0m     \u001b[39m# error: Argument 1 to \"_na_arithmetic_op\" has incompatible type\u001b[39;00m\n\u001b[1;32m    225\u001b[0m     \u001b[39m# \"Union[ExtensionArray, ndarray[Any, Any]]\"; expected \"ndarray[Any, Any]\"\u001b[39;00m\n\u001b[0;32m--> 226\u001b[0m     res_values \u001b[39m=\u001b[39m _na_arithmetic_op(left, right, op)  \u001b[39m# type: ignore[arg-type]\u001b[39;00m\n\u001b[1;32m    228\u001b[0m \u001b[39mreturn\u001b[39;00m res_values\n",
      "File \u001b[0;32m~/envs/deep/lib/python3.10/site-packages/pandas/core/ops/array_ops.py:165\u001b[0m, in \u001b[0;36m_na_arithmetic_op\u001b[0;34m(left, right, op, is_cmp)\u001b[0m\n\u001b[1;32m    162\u001b[0m     func \u001b[39m=\u001b[39m partial(expressions\u001b[39m.\u001b[39mevaluate, op)\n\u001b[1;32m    164\u001b[0m \u001b[39mtry\u001b[39;00m:\n\u001b[0;32m--> 165\u001b[0m     result \u001b[39m=\u001b[39m func(left, right)\n\u001b[1;32m    166\u001b[0m \u001b[39mexcept\u001b[39;00m \u001b[39mTypeError\u001b[39;00m:\n\u001b[1;32m    167\u001b[0m     \u001b[39mif\u001b[39;00m \u001b[39mnot\u001b[39;00m is_cmp \u001b[39mand\u001b[39;00m (is_object_dtype(left\u001b[39m.\u001b[39mdtype) \u001b[39mor\u001b[39;00m is_object_dtype(right)):\n\u001b[1;32m    168\u001b[0m         \u001b[39m# For object dtype, fallback to a masked operation (only operating\u001b[39;00m\n\u001b[1;32m    169\u001b[0m         \u001b[39m#  on the non-missing values)\u001b[39;00m\n\u001b[1;32m    170\u001b[0m         \u001b[39m# Don't do this for comparisons, as that will handle complex numbers\u001b[39;00m\n\u001b[1;32m    171\u001b[0m         \u001b[39m#  incorrectly, see GH#32047\u001b[39;00m\n",
      "File \u001b[0;32m~/envs/deep/lib/python3.10/site-packages/pandas/core/computation/expressions.py:241\u001b[0m, in \u001b[0;36mevaluate\u001b[0;34m(op, a, b, use_numexpr)\u001b[0m\n\u001b[1;32m    238\u001b[0m \u001b[39mif\u001b[39;00m op_str \u001b[39mis\u001b[39;00m \u001b[39mnot\u001b[39;00m \u001b[39mNone\u001b[39;00m:\n\u001b[1;32m    239\u001b[0m     \u001b[39mif\u001b[39;00m use_numexpr:\n\u001b[1;32m    240\u001b[0m         \u001b[39m# error: \"None\" not callable\u001b[39;00m\n\u001b[0;32m--> 241\u001b[0m         \u001b[39mreturn\u001b[39;00m _evaluate(op, op_str, a, b)  \u001b[39m# type: ignore[misc]\u001b[39;00m\n\u001b[1;32m    242\u001b[0m \u001b[39mreturn\u001b[39;00m _evaluate_standard(op, op_str, a, b)\n",
      "File \u001b[0;32m~/envs/deep/lib/python3.10/site-packages/pandas/core/computation/expressions.py:70\u001b[0m, in \u001b[0;36m_evaluate_standard\u001b[0;34m(op, op_str, a, b)\u001b[0m\n\u001b[1;32m     68\u001b[0m \u001b[39mif\u001b[39;00m _TEST_MODE:\n\u001b[1;32m     69\u001b[0m     _store_test_result(\u001b[39mFalse\u001b[39;00m)\n\u001b[0;32m---> 70\u001b[0m \u001b[39mreturn\u001b[39;00m op(a, b)\n",
      "\u001b[0;31mValueError\u001b[0m: operands could not be broadcast together with shapes (959,) (959,10) "
>>>>>>> parent of 8d785b7 (Gradient Ascent Algo Shit)
     ]
    }
   ],
   "source": [
    "# Gradient Ascent Optimization\n",
    "# Initialize parameters\n",
    "from tqdm import tqdm\n",
<<<<<<< HEAD
    "true_coefficients = np.random.rand(len(selected_features))\n",
    "initial_coefficients = np.random.rand(len(selected_features))\n",
    "learning_rates = [0.01, 0.001, 0.0001]\n",
    "num_iterations = 100000\n",
    "msre_err = []\n",
    "r2_err = []\n",
=======
    "theta = np.random.randn(len(X_train_norm))\n",
    "learning_rate = 0.01\n",
    "num_iterations = 1000\n",
>>>>>>> parent of 8d785b7 (Gradient Ascent Algo Shit)
    "\n",
    "# Add a bias term to the feature matrix\n",
    "# X_train_norm = np.c_[np.ones(len(X_train_norm_norm)), X_train_norm]\n",
    "# print(len(X_train[0]))\n",
    "# Perform gradient ascent\n",
<<<<<<< HEAD
    "coefficients = initial_coefficients.copy()\n",
    "for lr in learning_rates:\n",
    "    for _ in tqdm(range(num_iterations)):\n",
    "        # Calculate predictions and errors\n",
    "        predictions = X_train_norm.dot(coefficients)\n",
    "        errors = y_train - predictions\n",
    "        # Calculate gradient of the log-likelihood\n",
    "        gradient = X_train_norm.T.dot(errors)  # Gradient ascent, so we add the gradient\n",
    "        # Normalize the gradient before updating coefficients\n",
    "        gradient /= np.linalg.norm(gradient)\n",
    "        # Update coefficients\n",
    "        coefficients += lr * gradient\n",
=======
    "for i in tqdm(range(num_iterations)):\n",
    "    y_pred_train = theta[0]\n",
    "    for t in theta:\n",
    "        y_pred_train += t*X_train_norm\n",
    "    residuals = y_train - y_pred_train\n",
    "    gradient = np.array([-2 * np.sum(residuals), -2 * np.sum(residuals * X)])\n",
    "    theta += learning_rate * gradient\n",
>>>>>>> parent of 8d785b7 (Gradient Ascent Algo Shit)
    "\n",
    "    # The final coefficients are the result of the gradient ascent\n",
    "    intercept, final_coefficients = coefficients[0], coefficients[1:]\n",
    "    # print(\"True Coefficients:\", true_coefficients)\n",
    "    # print(\"Estimated Coefficients:\", final_coefficients)\n",
    "    y_pred_val = X_val_norm.dot(coefficients)\n",
    "    msre = mean_squared_error(y_val, y_pred_val)\n",
    "    msre_err.append(msre)\n",
    "    print(f\"Mean Squared Error : {msre}\")\n",
    "    r2 = r2_score(y_val, y_pred_val)\n",
    "    r2_err.append(r2)\n",
    "    print(f\"R2_Score : {r2}\") "
   ]
  },
  {
   "cell_type": "code",
   "execution_count": 69,
   "metadata": {},
   "outputs": [
    {
     "data": {
      "text/plain": [
       "[1.0950444125110177, 1.0931802198300642, 1.0941884437749336]"
      ]
     },
     "execution_count": 69,
     "metadata": {},
     "output_type": "execute_result"
    }
   ],
   "source": [
    "msre_err"
   ]
  },
  {
   "cell_type": "code",
   "execution_count": 71,
   "metadata": {},
   "outputs": [
    {
     "data": {
      "text/plain": [
       "[-0.6993899709191351, -0.6964969463900121, -0.6980616004266669]"
      ]
     },
     "execution_count": 71,
     "metadata": {},
     "output_type": "execute_result"
    }
   ],
   "source": [
    "r2_err"
   ]
  },
  {
   "cell_type": "code",
   "execution_count": 79,
   "metadata": {},
   "outputs": [
    {
     "data": {
      "text/plain": [
       "Text(0, 0.5, 'Mean Squared Error')"
      ]
     },
     "execution_count": 79,
     "metadata": {},
     "output_type": "execute_result"
    },
    {
     "data": {
      "image/png": "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",
      "text/plain": [
       "<Figure size 640x480 with 1 Axes>"
      ]
     },
     "metadata": {},
     "output_type": "display_data"
    }
   ],
   "source": [
    "plt.plot(msre_err)\n",
    "plt.xticks(np.arange(len(msre_err)), np.arange(1, len(msre_err)+1))\n",
    "plt.ylabel(\"Mean Squared Error\")"
   ]
  },
  {
   "cell_type": "code",
   "execution_count": 80,
   "metadata": {},
   "outputs": [
    {
     "data": {
      "text/plain": [
       "Text(0, 0.5, 'R2 Score')"
      ]
     },
     "execution_count": 80,
     "metadata": {},
     "output_type": "execute_result"
    },
    {
     "data": {
      "image/png": "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",
      "text/plain": [
       "<Figure size 640x480 with 1 Axes>"
      ]
     },
     "metadata": {},
     "output_type": "display_data"
    }
   ],
   "source": [
    "plt.plot(r2_err)\n",
    "plt.xticks(np.arange(len(r2_err)), np.arange(1, len(r2_err)+1))\n",
    "plt.ylabel(\"R2 Score\")"
   ]
  },
  {
   "cell_type": "code",
   "execution_count": null,
   "metadata": {},
   "outputs": [],
   "source": []
  }
 ],
 "metadata": {
  "kernelspec": {
   "display_name": "deep",
   "language": "python",
   "name": "python3"
  },
  "language_info": {
   "codemirror_mode": {
    "name": "ipython",
    "version": 3
   },
   "file_extension": ".py",
   "mimetype": "text/x-python",
   "name": "python",
   "nbconvert_exporter": "python",
   "pygments_lexer": "ipython3",
   "version": "3.10.12"
  },
  "orig_nbformat": 4
 },
 "nbformat": 4,
 "nbformat_minor": 2
}
